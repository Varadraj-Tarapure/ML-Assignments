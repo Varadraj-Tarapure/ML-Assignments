{
 "cells": [
  {
   "cell_type": "code",
   "execution_count": 36,
   "id": "20d51f97",
   "metadata": {},
   "outputs": [],
   "source": [
    "import pandas as pd\n",
    "from sklearn import linear_model\n",
    "import seaborn as sns"
   ]
  },
  {
   "cell_type": "code",
   "execution_count": 22,
   "id": "0a725ab6",
   "metadata": {},
   "outputs": [],
   "source": [
    "dataframe = pd.read_csv(r\"C:\\Users\\Varadraj\\Desktop\\College-Assignment--master\\Machine Learning\\mammals.csv\")"
   ]
  },
  {
   "cell_type": "code",
   "execution_count": 23,
   "id": "55f6ce54",
   "metadata": {},
   "outputs": [
    {
     "data": {
      "text/html": [
       "<div>\n",
       "<style scoped>\n",
       "    .dataframe tbody tr th:only-of-type {\n",
       "        vertical-align: middle;\n",
       "    }\n",
       "\n",
       "    .dataframe tbody tr th {\n",
       "        vertical-align: top;\n",
       "    }\n",
       "\n",
       "    .dataframe thead th {\n",
       "        text-align: right;\n",
       "    }\n",
       "</style>\n",
       "<table border=\"1\" class=\"dataframe\">\n",
       "  <thead>\n",
       "    <tr style=\"text-align: right;\">\n",
       "      <th></th>\n",
       "      <th>species</th>\n",
       "      <th>body_wt</th>\n",
       "      <th>brain_wt</th>\n",
       "      <th>non_dreaming</th>\n",
       "      <th>dreaming</th>\n",
       "      <th>total_sleep</th>\n",
       "      <th>life_span</th>\n",
       "      <th>gestation</th>\n",
       "      <th>predation</th>\n",
       "      <th>exposure</th>\n",
       "      <th>danger</th>\n",
       "    </tr>\n",
       "  </thead>\n",
       "  <tbody>\n",
       "    <tr>\n",
       "      <th>0</th>\n",
       "      <td>Africanelephant</td>\n",
       "      <td>6654.000</td>\n",
       "      <td>5712.0</td>\n",
       "      <td>NaN</td>\n",
       "      <td>NaN</td>\n",
       "      <td>3.3</td>\n",
       "      <td>38.6</td>\n",
       "      <td>645.0</td>\n",
       "      <td>3</td>\n",
       "      <td>5</td>\n",
       "      <td>3</td>\n",
       "    </tr>\n",
       "    <tr>\n",
       "      <th>1</th>\n",
       "      <td>Africangiantpouchedrat</td>\n",
       "      <td>1.000</td>\n",
       "      <td>6.6</td>\n",
       "      <td>6.3</td>\n",
       "      <td>2.0</td>\n",
       "      <td>8.3</td>\n",
       "      <td>4.5</td>\n",
       "      <td>42.0</td>\n",
       "      <td>3</td>\n",
       "      <td>1</td>\n",
       "      <td>3</td>\n",
       "    </tr>\n",
       "    <tr>\n",
       "      <th>2</th>\n",
       "      <td>ArcticFox</td>\n",
       "      <td>3.385</td>\n",
       "      <td>44.5</td>\n",
       "      <td>NaN</td>\n",
       "      <td>NaN</td>\n",
       "      <td>12.5</td>\n",
       "      <td>14.0</td>\n",
       "      <td>60.0</td>\n",
       "      <td>1</td>\n",
       "      <td>1</td>\n",
       "      <td>1</td>\n",
       "    </tr>\n",
       "    <tr>\n",
       "      <th>3</th>\n",
       "      <td>Arcticgroundsquirrel</td>\n",
       "      <td>0.920</td>\n",
       "      <td>5.7</td>\n",
       "      <td>NaN</td>\n",
       "      <td>NaN</td>\n",
       "      <td>16.5</td>\n",
       "      <td>NaN</td>\n",
       "      <td>25.0</td>\n",
       "      <td>5</td>\n",
       "      <td>2</td>\n",
       "      <td>3</td>\n",
       "    </tr>\n",
       "    <tr>\n",
       "      <th>4</th>\n",
       "      <td>Asianelephant</td>\n",
       "      <td>2547.000</td>\n",
       "      <td>4603.0</td>\n",
       "      <td>2.1</td>\n",
       "      <td>1.8</td>\n",
       "      <td>3.9</td>\n",
       "      <td>69.0</td>\n",
       "      <td>624.0</td>\n",
       "      <td>3</td>\n",
       "      <td>5</td>\n",
       "      <td>4</td>\n",
       "    </tr>\n",
       "  </tbody>\n",
       "</table>\n",
       "</div>"
      ],
      "text/plain": [
       "                  species   body_wt  brain_wt  non_dreaming  dreaming  \\\n",
       "0         Africanelephant  6654.000    5712.0           NaN       NaN   \n",
       "1  Africangiantpouchedrat     1.000       6.6           6.3       2.0   \n",
       "2               ArcticFox     3.385      44.5           NaN       NaN   \n",
       "3    Arcticgroundsquirrel     0.920       5.7           NaN       NaN   \n",
       "4           Asianelephant  2547.000    4603.0           2.1       1.8   \n",
       "\n",
       "   total_sleep  life_span  gestation  predation  exposure  danger  \n",
       "0          3.3       38.6      645.0          3         5       3  \n",
       "1          8.3        4.5       42.0          3         1       3  \n",
       "2         12.5       14.0       60.0          1         1       1  \n",
       "3         16.5        NaN       25.0          5         2       3  \n",
       "4          3.9       69.0      624.0          3         5       4  "
      ]
     },
     "execution_count": 23,
     "metadata": {},
     "output_type": "execute_result"
    }
   ],
   "source": [
    "dataframe.head()"
   ]
  },
  {
   "cell_type": "code",
   "execution_count": 24,
   "id": "2375ef5d",
   "metadata": {},
   "outputs": [],
   "source": [
    "x_values = dataframe[['body_wt']]\n",
    "y_values = dataframe[['brain_wt']]\n"
   ]
  },
  {
   "cell_type": "code",
   "execution_count": 25,
   "id": "7e2c9481",
   "metadata": {},
   "outputs": [],
   "source": [
    "from sklearn.model_selection import train_test_split "
   ]
  },
  {
   "cell_type": "code",
   "execution_count": 26,
   "id": "eb576d38",
   "metadata": {},
   "outputs": [],
   "source": [
    "X_train,X_test,Y_train,Y_test=train_test_split(x_values,y_values,test_size=0.2,random_state=101)\n",
    "    "
   ]
  },
  {
   "cell_type": "code",
   "execution_count": 27,
   "id": "8303c053",
   "metadata": {},
   "outputs": [
    {
     "data": {
      "text/plain": [
       "LinearRegression()"
      ]
     },
     "execution_count": 27,
     "metadata": {},
     "output_type": "execute_result"
    }
   ],
   "source": [
    "#train model on data\n",
    "body_reg = linear_model.LinearRegression()\n",
    "body_reg.fit(X_train, Y_train)\n"
   ]
  },
  {
   "cell_type": "code",
   "execution_count": 28,
   "id": "afc85a1e",
   "metadata": {},
   "outputs": [],
   "source": [
    "y_predict=body_reg.predict(X_test)"
   ]
  },
  {
   "cell_type": "code",
   "execution_count": 29,
   "id": "01466069",
   "metadata": {},
   "outputs": [
    {
     "data": {
      "text/plain": [
       "array([[103.72340791],\n",
       "       [135.482589  ],\n",
       "       [104.49943283],\n",
       "       [101.81949586],\n",
       "       [153.96258601],\n",
       "       [100.51808762],\n",
       "       [101.32785275],\n",
       "       [107.01548876],\n",
       "       [182.40076607],\n",
       "       [101.4628136 ],\n",
       "       [101.42425336],\n",
       "       [100.57592799],\n",
       "       [100.55761187]])"
      ]
     },
     "execution_count": 29,
     "metadata": {},
     "output_type": "execute_result"
    }
   ],
   "source": [
    "y_predict"
   ]
  },
  {
   "cell_type": "code",
   "execution_count": 30,
   "id": "e27a83bc",
   "metadata": {},
   "outputs": [],
   "source": [
    "from sklearn.metrics import r2_score"
   ]
  },
  {
   "cell_type": "code",
   "execution_count": 31,
   "id": "24847b69",
   "metadata": {},
   "outputs": [
    {
     "name": "stdout",
     "output_type": "stream",
     "text": [
      "the model accuracy is 98.91343912016461 %\n"
     ]
    },
    {
     "name": "stderr",
     "output_type": "stream",
     "text": [
      "C:\\Users\\Varadraj\\anaconda3\\lib\\site-packages\\sklearn\\base.py:493: FutureWarning: The feature names should match those that were passed during fit. Starting version 1.2, an error will be raised.\n",
      "Feature names unseen at fit time:\n",
      "- brain_wt\n",
      "Feature names seen at fit time, yet now missing:\n",
      "- body_wt\n",
      "\n",
      "  warnings.warn(message, FutureWarning)\n"
     ]
    }
   ],
   "source": [
    "accuracy=r2_score(y_values,body_reg.predict(y_values))\n",
    "print(\"the model accuracy is\",accuracy*100,\"%\")\n"
   ]
  },
  {
   "cell_type": "code",
   "execution_count": 38,
   "id": "6e2c29d7",
   "metadata": {},
   "outputs": [
    {
     "data": {
      "text/plain": [
       "<AxesSubplot:xlabel='body_wt'>"
      ]
     },
     "execution_count": 38,
     "metadata": {},
     "output_type": "execute_result"
    },
    {
     "data": {
      "image/png": "[encoded data removed]",
      "text/plain": [
       "<Figure size 640x480 with 1 Axes>"
      ]
     },
     "metadata": {},
     "output_type": "display_data"
    }
   ],
   "source": [
    "sns.regplot(X_test,y_predict,data=dataframe)"
   ]
  }
 ],
 "metadata": {
  "kernelspec": {
   "display_name": "Python 3 (ipykernel)",
   "language": "python",
   "name": "python3"
  },
  "language_info": {
   "codemirror_mode": {
    "name": "ipython",
    "version": 3
   },
   "file_extension": ".py",
   "mimetype": "text/x-python",
   "name": "python",
   "nbconvert_exporter": "python",
   "pygments_lexer": "ipython3",
   "version": "3.9.13"
  }
 },
 "nbformat": 4,
 "nbformat_minor": 5
}
